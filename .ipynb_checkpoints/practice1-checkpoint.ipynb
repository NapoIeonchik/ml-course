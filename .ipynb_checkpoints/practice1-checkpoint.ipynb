{
 "cells": [
  {
   "cell_type": "code",
   "execution_count": 6,
   "id": "45d1187b-2abb-438d-b886-06138c903297",
   "metadata": {},
   "outputs": [],
   "source": [
    "#!pip install seaborn"
   ]
  },
  {
   "cell_type": "code",
   "execution_count": 2,
   "id": "c4830583-818e-453e-8b7e-1fe3a92d9ee9",
   "metadata": {},
   "outputs": [],
   "source": [
    "import numpy as np\n",
    "import pandas as pd\n",
    "import seaborn as sns\n",
    "import matplotlib.pyplot as plt"
   ]
  },
  {
   "cell_type": "code",
   "execution_count": 3,
   "id": "0d710646-2642-4438-a6b4-f718ed7eb574",
   "metadata": {},
   "outputs": [],
   "source": [
    "df = pd.read_csv('cardio_train.csv', delimiter = ';')"
   ]
  },
  {
   "cell_type": "code",
   "execution_count": 18,
   "id": "5fb2982b-726f-4874-b784-175c2b95b451",
   "metadata": {},
   "outputs": [
    {
     "data": {
      "text/plain": [
       "164.35922857142856"
      ]
     },
     "execution_count": 18,
     "metadata": {},
     "output_type": "execute_result"
    }
   ],
   "source": [
    "df['height'].mean()"
   ]
  },
  {
   "cell_type": "code",
   "execution_count": 21,
   "id": "410b5a60-e92e-4384-b129-35bab85a3986",
   "metadata": {},
   "outputs": [],
   "source": [
    "df['gender'] = 'm'\n",
    "df.loc[df.height < 164.35922857142856, 'gender'] = 'f'"
   ]
  },
  {
   "cell_type": "code",
   "execution_count": 29,
   "id": "85ef9d21-4c5f-484b-ad2d-a8af3ac7c4d2",
   "metadata": {},
   "outputs": [
    {
     "data": {
      "text/plain": [
       "35574"
      ]
     },
     "execution_count": 29,
     "metadata": {},
     "output_type": "execute_result"
    }
   ],
   "source": [
    "len(df[df['gender'] == 'm'])"
   ]
  },
  {
   "cell_type": "code",
   "execution_count": 37,
   "id": "72fd5571-84f5-4a73-95be-a8b3cb0b2c04",
   "metadata": {},
   "outputs": [
    {
     "data": {
      "text/plain": [
       "gender\n",
       "f    0.036775\n",
       "m    0.070220\n",
       "Name: alco, dtype: float64"
      ]
     },
     "execution_count": 37,
     "metadata": {},
     "output_type": "execute_result"
    }
   ],
   "source": [
    "df.groupby('gender')['alco'].mean()"
   ]
  },
  {
   "cell_type": "code",
   "execution_count": 56,
   "id": "f4a24ff8-9200-4024-bd0c-ab4c32c68d3a",
   "metadata": {},
   "outputs": [
    {
     "name": "stdout",
     "output_type": "stream",
     "text": [
      "3265\n"
     ]
    }
   ],
   "source": [
    "smoking_pop = df[df['smoke'] == 1].groupby('gender')['gender'].count()\n",
    "print(smoking_pop['m']-smoking_pop['f'])\n"
   ]
  },
  {
   "cell_type": "code",
   "execution_count": 15,
   "id": "dcdcf59b-a088-4bd1-8542-d20d9f2bb39c",
   "metadata": {},
   "outputs": [
    {
     "name": "stdout",
     "output_type": "stream",
     "text": [
      "414.56380348447055\n"
     ]
    }
   ],
   "source": [
    "smoking_age = df[df['smoke'] == 1]['age'].mean()\n",
    "non_smoking_age = df[df['smoke'] == 0]['age'].mean()\n",
    "print(non_smoking_age - smoking_age)"
   ]
  },
  {
   "cell_type": "code",
   "execution_count": 19,
   "id": "dd0c84e2-562e-4827-b537-8682dd9f98fd",
   "metadata": {},
   "outputs": [
    {
     "data": {
      "text/plain": [
       "27.55651255127886"
      ]
     },
     "execution_count": 19,
     "metadata": {},
     "output_type": "execute_result"
    }
   ],
   "source": [
    "df['BMI'] = (df['weight'] / df['height']**2)*10000\n",
    "df['BMI'].mean()"
   ]
  },
  {
   "cell_type": "raw",
   "id": "e06e7ec4-1926-45bf-957d-8fd3ea566608",
   "metadata": {},
   "source": [
    "Як бачимо середній ІМТ не знаходиться в нормальному діапазоні"
   ]
  },
  {
   "cell_type": "code",
   "execution_count": 22,
   "id": "1d3911b8-56a3-43b1-ac9b-d00d3c2ce99f",
   "metadata": {},
   "outputs": [
    {
     "data": {
      "text/plain": [
       "gender\n",
       "f    28.664567\n",
       "m    26.484216\n",
       "Name: BMI, dtype: float64"
      ]
     },
     "execution_count": 22,
     "metadata": {},
     "output_type": "execute_result"
    }
   ],
   "source": [
    "df.groupby('gender')['BMI'].mean()"
   ]
  },
  {
   "cell_type": "code",
   "execution_count": null,
   "id": "0f494595-469e-4db8-bebf-76b57a964662",
   "metadata": {},
   "outputs": [],
   "source": [
    "ІМТ жінок в середньому вище ніж у чоловіків"
   ]
  },
  {
   "cell_type": "code",
   "execution_count": 30,
   "id": "759006bc-b20f-4a08-92b3-80dd42fa35d3",
   "metadata": {},
   "outputs": [
    {
     "data": {
      "text/plain": [
       "cardio\n",
       "0    26.548175\n",
       "1    28.566061\n",
       "Name: BMI, dtype: float64"
      ]
     },
     "execution_count": 30,
     "metadata": {},
     "output_type": "execute_result"
    }
   ],
   "source": [
    "df.groupby('cardio')['BMI'].mean()"
   ]
  },
  {
   "cell_type": "code",
   "execution_count": null,
   "id": "873a5582-2b53-486e-857a-b78b446c1688",
   "metadata": {},
   "outputs": [],
   "source": [
    "У здорових людей в середньому ІМТ нижчий за нездорових."
   ]
  },
  {
   "cell_type": "code",
   "execution_count": 51,
   "id": "4ca86eb1-7fb3-4569-94d3-f49f641beb96",
   "metadata": {},
   "outputs": [
    {
     "data": {
      "text/plain": [
       "gender\n",
       "f    27.434586\n",
       "m    25.646589\n",
       "Name: BMI, dtype: float64"
      ]
     },
     "execution_count": 51,
     "metadata": {},
     "output_type": "execute_result"
    }
   ],
   "source": [
    "healthy_people = df[(df['cardio'] == 0) & (df['alco'] == 0)].groupby('gender')['BMI']\n",
    "healthy_people.mean()"
   ]
  },
  {
   "cell_type": "code",
   "execution_count": null,
   "id": "cd2d8e27-541d-41b7-b7ec-509e971b4d86",
   "metadata": {},
   "outputs": [],
   "source": [
    "Для здорових, невживаючих алкоголь чоловіків середній ІМТ і вправду нижчий"
   ]
  },
  {
   "cell_type": "code",
   "execution_count": 57,
   "id": "fb3bb631-35c8-4994-9ff7-2a991daf54e7",
   "metadata": {},
   "outputs": [
    {
     "data": {
      "text/plain": [
       "1234"
      ]
     },
     "execution_count": 57,
     "metadata": {},
     "output_type": "execute_result"
    }
   ],
   "source": [
    "df_filtered = df[df['ap_hi'] < df['ap_lo']]\n",
    "len(df_filtered)"
   ]
  },
  {
   "cell_type": "markdown",
   "id": "88c5de80-785c-4c5e-ba64-b2ccc8ba8148",
   "metadata": {},
   "source": [
    "Бачимо що це лише 1234 випадки"
   ]
  },
  {
   "cell_type": "code",
   "execution_count": 60,
   "id": "e7fa7875-b727-4254-82e4-719af53f8e9d",
   "metadata": {},
   "outputs": [
    {
     "name": "stdout",
     "output_type": "stream",
     "text": [
      "1.762857142857143\n"
     ]
    }
   ],
   "source": [
    "print(len(df_filtered)*100/len(df))"
   ]
  },
  {
   "cell_type": "markdown",
   "id": "3c20be6a-72c5-423a-9c2c-8fd9cf3050ba",
   "metadata": {},
   "source": [
    "1.76%"
   ]
  },
  {
   "cell_type": "code",
   "execution_count": 70,
   "id": "af6d64bc-1643-4092-86fc-0af4b95b7076",
   "metadata": {
    "scrolled": true
   },
   "outputs": [
    {
     "data": {
      "image/png": "[encoded data removed]",
      "text/plain": [
       "<Figure size 1000x600 with 1 Axes>"
      ]
     },
     "metadata": {},
     "output_type": "display_data"
    },
    {
     "name": "stdout",
     "output_type": "stream",
     "text": [
      "Кількість викидів: 1995\n"
     ]
    }
   ],
   "source": [
    "plt.figure(figsize=(10,6))\n",
    "sns.histplot(df['BMI'], bins=60)\n",
    "plt.title('Розподіл BMI')\n",
    "plt.xlabel('BMI')\n",
    "plt.ylabel('Кількість')\n",
    "plt.show()\n",
    "\n",
    "Q1 = df['BMI'].quantile(0.25)\n",
    "Q3 = df['BMI'].quantile(0.75)\n",
    "lower_bound = Q1 - 1.5 * (Q3-Q1)\n",
    "upper_bound = Q3 + 1.5 * (Q3-Q1)\n",
    "\n",
    "outliers = df[(df['BMI'] < lower_bound) | (df['BMI'] > upper_bound)]\n",
    "print(f\"Кількість викидів: {len(outliers)}\")"
   ]
  },
  {
   "cell_type": "markdown",
   "id": "523b502c-00db-4454-a1ab-12ceb647f63c",
   "metadata": {},
   "source": [
    "https://www.itl.nist.gov/div898/handbook/prc/section1/prc16.htm#:~:text=An%20outlier%20is%20an%20observation,what%20will%20be%20considered%20abnormal."
   ]
  },
  {
   "cell_type": "code",
   "execution_count": 82,
   "id": "a594fd25-b72d-40ac-9d21-1e8751105e79",
   "metadata": {},
   "outputs": [
    {
     "data": {
      "image/png": "[encoded data removed]",
      "text/plain": [
       "<Figure size 1000x600 with 2 Axes>"
      ]
     },
     "metadata": {},
     "output_type": "display_data"
    }
   ],
   "source": [
    "bins = [0, 18.5, 24.9, 29.9, 40]  \n",
    "df['BMI_category'] = pd.cut(df['BMI'], bins=bins, right=False)\n",
    "heatmap_data = df.groupby(['BMI_category', 'cardio']).size().unstack(fill_value=0)\n",
    "\n",
    "plt.figure(figsize=(10, 6))\n",
    "sns.heatmap(heatmap_data, annot=True, cmap='YlGnBu', fmt='d')\n",
    "plt.xlabel('cardio')\n",
    "plt.ylabel('BMI')\n",
    "plt.show()"
   ]
  },
  {
   "cell_type": "code",
   "execution_count": null,
   "id": "8f76ee75-521e-4c83-a93b-6cd265bf373f",
   "metadata": {},
   "outputs": [],
   "source": []
  }
 ],
 "metadata": {
  "kernelspec": {
   "display_name": "Python 3 (ipykernel)",
   "language": "python",
   "name": "python3"
  },
  "language_info": {
   "codemirror_mode": {
    "name": "ipython",
    "version": 3
   },
   "file_extension": ".py",
   "mimetype": "text/x-python",
   "name": "python",
   "nbconvert_exporter": "python",
   "pygments_lexer": "ipython3",
   "version": "3.8.10"
  }
 },
 "nbformat": 4,
 "nbformat_minor": 5
}
